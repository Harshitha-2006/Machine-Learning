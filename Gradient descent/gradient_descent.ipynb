{
 "cells": [
  {
   "cell_type": "code",
   "execution_count": 1,
   "id": "fe17a7b5",
   "metadata": {},
   "outputs": [],
   "source": [
    "import numpy as np"
   ]
  },
  {
   "cell_type": "code",
   "execution_count": null,
   "id": "fe53d43b",
   "metadata": {},
   "outputs": [
    {
     "name": "stdout",
     "output_type": "stream",
     "text": [
      "Iteration 0 : m=0.03100, b=0.00900, cost=89.00000\n",
      "Iteration 1 : m=0.06163, b=0.01790, cost=86.92833\n",
      "Iteration 2 : m=0.09190, b=0.02670, cost=84.90537\n",
      "Iteration 3 : m=0.12181, b=0.03539, cost=82.93000\n",
      "Iteration 4 : m=0.15136, b=0.04399, cost=81.00108\n",
      "Iteration 5 : m=0.18057, b=0.05249, cost=79.11753\n",
      "Iteration 6 : m=0.20942, b=0.06090, cost=77.27827\n",
      "Iteration 7 : m=0.23794, b=0.06921, cost=75.48227\n",
      "Iteration 8 : m=0.26611, b=0.07743, cost=73.72851\n",
      "Iteration 9 : m=0.29395, b=0.08555, cost=72.01599\n"
     ]
    }
   ],
   "source": [
    "#GRADIENT DESCENT\n",
    "def gradient_descent(x,y):\n",
    "    learning_rate=0.0005\n",
    "    m=b=0\n",
    "    n=len(x)\n",
    "    iterations=10\n",
    "    for i in range(iterations):\n",
    "        yp=m*x+b\n",
    "        c=(1/n)*sum([i**2 for i in (y-yp)])\n",
    "        md=-(2/n)*sum(x*(y-yp)) #Gradient w.r.t slope(m)\n",
    "        bd=-(2/n)*sum((y-yp))   #Gradient w.r.t intercept(b)\n",
    "        m=m-learning_rate*md\n",
    "        b=b-learning_rate*bd\n",
    "        print(f\"Iteration {i} : m={m:.5f}, b={b:.5f}, cost={c:.5f}\")\n",
    "x=np.array([1,2,3,4,5])\n",
    "y=np.array([5,7,9,11,13])\n",
    "gradient_descent(x,y)"
   ]
  }
 ],
 "metadata": {
  "kernelspec": {
   "display_name": "Python 3",
   "language": "python",
   "name": "python3"
  },
  "language_info": {
   "codemirror_mode": {
    "name": "ipython",
    "version": 3
   },
   "file_extension": ".py",
   "mimetype": "text/x-python",
   "name": "python",
   "nbconvert_exporter": "python",
   "pygments_lexer": "ipython3",
   "version": "3.7.4"
  }
 },
 "nbformat": 4,
 "nbformat_minor": 5
}
